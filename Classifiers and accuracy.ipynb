{
 "cells": [
  {
   "cell_type": "markdown",
   "metadata": {},
   "source": [
    "# In this episode, I'd use three different Classifiers to build an Iris flower prediction model. \n",
    "> All these classifiers produce a similar prediction accuracy, which is greater than 90% (>0.9)\n",
    "\n",
    "1. Decision Tree (**commented**)\n",
    "2. K-Nearest Neighbor\n",
    "3. My own version of K-Nearest Neighbor (one-Nearest Neighbor)"
   ]
  },
  {
   "cell_type": "code",
   "execution_count": 207,
   "metadata": {},
   "outputs": [],
   "source": [
    "from sklearn import datasets"
   ]
  },
  {
   "cell_type": "code",
   "execution_count": 208,
   "metadata": {},
   "outputs": [],
   "source": [
    "# Import Iris data set\n",
    "\n",
    "iris = datasets.load_iris()\n",
    "\n",
    "X = iris.data\n",
    "y = iris.target"
   ]
  },
  {
   "cell_type": "code",
   "execution_count": 209,
   "metadata": {},
   "outputs": [],
   "source": [
    "# split training and test set by 50% each (test_size=.5)\n",
    "\n",
    "from sklearn.cross_validation import train_test_split\n",
    "\n",
    "X_train, X_test, y_train, y_test = train_test_split(X, y, test_size=.5)"
   ]
  },
  {
   "cell_type": "code",
   "execution_count": 210,
   "metadata": {},
   "outputs": [
    {
     "name": "stdout",
     "output_type": "stream",
     "text": [
      "75 75 38 38\n"
     ]
    }
   ],
   "source": [
    "print(len(X_train), len(X_test), len(Y_train), len(Y_test))"
   ]
  },
  {
   "cell_type": "code",
   "execution_count": 211,
   "metadata": {},
   "outputs": [],
   "source": [
    "# train_test_split.__doc__"
   ]
  },
  {
   "cell_type": "code",
   "execution_count": 212,
   "metadata": {},
   "outputs": [],
   "source": [
    "# Use Decision tree algorithm\n",
    "\n",
    "# from sklearn import tree\n",
    "# classifier = tree.DecisionTreeClassifier()\n",
    "\n",
    "# Or use the K-NearestNeighbor algorithm\n",
    "\n",
    "from sklearn import neighbors\n",
    "classifier = neighbors.KNeighborsClassifier()"
   ]
  },
  {
   "cell_type": "code",
   "execution_count": 213,
   "metadata": {
    "collapsed": true
   },
   "outputs": [],
   "source": [
    "classifier = tree.DecisionTreeClassifier()"
   ]
  },
  {
   "cell_type": "code",
   "execution_count": 214,
   "metadata": {
    "scrolled": true
   },
   "outputs": [
    {
     "data": {
      "text/plain": [
       "((2, 2),\n",
       " (2, 2),\n",
       " (1, 1),\n",
       " (2, 2),\n",
       " (0, 0),\n",
       " (1, 1),\n",
       " (1, 1),\n",
       " (0, 0),\n",
       " (1, 1),\n",
       " (2, 2),\n",
       " (1, 2),\n",
       " (0, 0),\n",
       " (1, 1),\n",
       " (2, 2),\n",
       " (2, 2),\n",
       " (2, 1),\n",
       " (1, 1),\n",
       " (0, 0),\n",
       " (0, 0),\n",
       " (0, 0),\n",
       " (1, 1),\n",
       " (0, 0),\n",
       " (1, 1),\n",
       " (0, 0),\n",
       " (1, 1),\n",
       " (1, 1),\n",
       " (1, 1),\n",
       " (0, 0),\n",
       " (0, 0),\n",
       " (2, 2),\n",
       " (0, 0),\n",
       " (2, 2),\n",
       " (1, 1),\n",
       " (1, 1),\n",
       " (0, 0),\n",
       " (2, 2),\n",
       " (0, 0),\n",
       " (1, 2),\n",
       " (1, 1),\n",
       " (1, 1),\n",
       " (2, 2),\n",
       " (2, 2),\n",
       " (0, 0),\n",
       " (0, 0),\n",
       " (0, 0),\n",
       " (1, 1),\n",
       " (0, 0),\n",
       " (0, 0),\n",
       " (0, 0),\n",
       " (0, 0),\n",
       " (1, 1),\n",
       " (2, 2),\n",
       " (1, 1),\n",
       " (2, 2),\n",
       " (1, 1),\n",
       " (0, 0),\n",
       " (1, 1),\n",
       " (0, 0),\n",
       " (0, 0),\n",
       " (1, 1),\n",
       " (2, 2),\n",
       " (2, 2),\n",
       " (1, 1),\n",
       " (0, 0),\n",
       " (2, 2),\n",
       " (2, 2),\n",
       " (1, 1),\n",
       " (0, 0),\n",
       " (1, 1),\n",
       " (2, 2),\n",
       " (2, 2),\n",
       " (0, 0),\n",
       " (2, 2),\n",
       " (0, 0),\n",
       " (1, 1))"
      ]
     },
     "execution_count": 214,
     "metadata": {},
     "output_type": "execute_result"
    }
   ],
   "source": [
    "classifier.fit(X_train, y_train)\n",
    "prediction = classifier.predict(X_test)\n",
    "tuple(zip(prediction, y_test))"
   ]
  },
  {
   "cell_type": "code",
   "execution_count": 215,
   "metadata": {},
   "outputs": [],
   "source": [
    "from sklearn.metrics import accuracy_score"
   ]
  },
  {
   "cell_type": "code",
   "execution_count": 216,
   "metadata": {},
   "outputs": [
    {
     "name": "stdout",
     "output_type": "stream",
     "text": [
      "0.96\n"
     ]
    }
   ],
   "source": [
    "# Calculate accuracy\n",
    "\n",
    "acc = accuracy_score(prediction, y_test)\n",
    "print(acc)"
   ]
  },
  {
   "cell_type": "code",
   "execution_count": 217,
   "metadata": {},
   "outputs": [],
   "source": [
    "# One-Nearest Neighbor implementation.\n",
    "\n",
    "import random\n",
    "import numpy as np\n",
    "from scipy.spatial import distance\n",
    "class ONNClassifier:\n",
    "    \n",
    "    def fit(self, X_train, y_train):\n",
    "        self.X_train = X_train\n",
    "        self.y_train = y_train\n",
    "    \n",
    "    def predict(self, X_test):\n",
    "        predictions = []\n",
    "        for row in X_test:\n",
    "            label = self.closest(row)\n",
    "            predictions.append(label)\n",
    "        return predictions\n",
    "    \n",
    "    def closest(self, data):\n",
    "        dist = self.euc(data, self.X_train[0])\n",
    "        index = 1\n",
    "        label = y_train[0]\n",
    "        for row in np.delete(self.X_train, 0, axis=0):\n",
    "            compute = self.euc(row, data)\n",
    "            if compute < dist:\n",
    "                dist = compute\n",
    "                label = self.y_train[index]\n",
    "            index += 1\n",
    "        print(dist)\n",
    "        return label\n",
    "    \n",
    "    def euc(self, x, y):\n",
    "        return distance.euclidean(x, y)\n",
    "    "
   ]
  },
  {
   "cell_type": "code",
   "execution_count": 218,
   "metadata": {
    "scrolled": true
   },
   "outputs": [
    {
     "name": "stdout",
     "output_type": "stream",
     "text": [
      "0.4123105625617657\n",
      "0.24494897427831713\n",
      "0.3741657386773941\n",
      "0.26457513110645964\n",
      "0.24494897427831772\n",
      "0.3162277660168384\n",
      "0.5099019513592782\n",
      "0.17320508075688756\n",
      "0.33166247903554\n",
      "0.3162277660168375\n",
      "0.3605551275463984\n",
      "0.1414213562373099\n",
      "0.33166247903553975\n",
      "0.30000000000000016\n",
      "0.36055512754639885\n",
      "0.36055512754639885\n",
      "0.20000000000000018\n",
      "0.22360679774997874\n",
      "0.1999999999999998\n",
      "0.14142135623730914\n",
      "0.38729833462074126\n",
      "0.14142135623730986\n",
      "0.33166247903554\n",
      "0.17320508075688784\n",
      "0.14142135623730964\n",
      "0.26457513110645864\n",
      "0.31622776601683794\n",
      "0.3605551275463988\n",
      "0.26457513110645897\n",
      "0.5099019513592786\n",
      "0.29999999999999993\n",
      "0.30000000000000016\n",
      "0.22360679774997894\n",
      "0.31622776601683794\n",
      "0.3316624790355398\n",
      "0.1414213562373093\n",
      "0.24494897427831783\n",
      "0.43588989435406705\n",
      "0.22360679774997896\n",
      "0.36055512754639885\n",
      "0.5477225575051664\n",
      "0.3162277660168376\n",
      "0.7141428428542851\n",
      "0.264575131106459\n",
      "0.22360679774997896\n",
      "0.17320508075688812\n",
      "0.17320508075688784\n",
      "0.14142135623730964\n",
      "0.09999999999999964\n",
      "0.14142135623730956\n",
      "0.20000000000000018\n",
      "0.282842712474618\n",
      "0.24494897427831722\n",
      "0.24494897427831774\n",
      "0.1414213562373093\n",
      "0.3605551275463991\n",
      "0.36055512754639885\n",
      "0.38729833462074176\n",
      "0.17320508075688784\n",
      "0.4582575694955843\n",
      "0.10000000000000009\n",
      "0.17320508075688762\n",
      "0.14142135623730995\n",
      "0.282842712474619\n",
      "0.2645751311064594\n",
      "0.22360679774997935\n",
      "0.30000000000000027\n",
      "0.14142135623730964\n",
      "0.3162277660168377\n",
      "0.5385164807134503\n",
      "0.34641016151377513\n",
      "0.09999999999999998\n",
      "0.24494897427831783\n",
      "0.14142135623730948\n",
      "0.2645751311064593\n"
     ]
    }
   ],
   "source": [
    "classifier = ONNClassifier()\n",
    "classifier.fit(X_train, y_train)\n",
    "predict = classifier.predict(X_test)"
   ]
  },
  {
   "cell_type": "code",
   "execution_count": 219,
   "metadata": {
    "scrolled": true
   },
   "outputs": [
    {
     "name": "stdout",
     "output_type": "stream",
     "text": [
      "0.946666666667\n"
     ]
    }
   ],
   "source": [
    "# Calculate accuracy\n",
    "\n",
    "acc = accuracy_score(predict, y_test)\n",
    "print(acc)"
   ]
  },
  {
   "cell_type": "code",
   "execution_count": null,
   "metadata": {
    "collapsed": true
   },
   "outputs": [],
   "source": []
  }
 ],
 "metadata": {
  "kernelspec": {
   "display_name": "Python 3",
   "language": "python",
   "name": "python3"
  },
  "language_info": {
   "codemirror_mode": {
    "name": "ipython",
    "version": 3
   },
   "file_extension": ".py",
   "mimetype": "text/x-python",
   "name": "python",
   "nbconvert_exporter": "python",
   "pygments_lexer": "ipython3",
   "version": "3.6.1"
  }
 },
 "nbformat": 4,
 "nbformat_minor": 2
}
