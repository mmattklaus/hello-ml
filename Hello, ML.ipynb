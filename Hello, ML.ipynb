{
 "cells": [
  {
   "cell_type": "code",
   "execution_count": 18,
   "metadata": {},
   "outputs": [],
   "source": [
    "from sklearn import tree"
   ]
  },
  {
   "cell_type": "code",
   "execution_count": 19,
   "metadata": {},
   "outputs": [],
   "source": [
    "## Step 1\n",
    "# Data Collection\n",
    "features = [[140, \"smooth\"], [130, \"smooth\"], [150, \"bumpy\"], [170, \"bumpy\"]]\n",
    "labels = [\"apple\", \"apple\", \"orange\", \"orange\"]\n",
    "\n",
    "# Represent smoothness with 1 and bumpy with 0\n",
    "weights = [[weight, int(texture == \"smooth\")] for weight, texture in features]\n",
    "# Represent apple with 0 and orange with 1\n",
    "label = [int(fruit == \"orange\") for fruit in labels]"
   ]
  },
  {
   "cell_type": "code",
   "execution_count": 20,
   "metadata": {},
   "outputs": [],
   "source": [
    "## Step 2\n",
    "# Train Classifier\n",
    "clf = tree.DecisionTreeClassifier()\n",
    "clf = clf.fit(weights, label)"
   ]
  },
  {
   "cell_type": "code",
   "execution_count": 24,
   "metadata": {},
   "outputs": [
    {
     "name": "stdout",
     "output_type": "stream",
     "text": [
      "orange\n"
     ]
    }
   ],
   "source": [
    "## Step3\n",
    "# Make Prediction\n",
    "print(\"orange\" if clf.predict([[150, 0]]) == 1 else \"apple\")"
   ]
  },
  {
   "cell_type": "code",
   "execution_count": null,
   "metadata": {},
   "outputs": [],
   "source": []
  }
 ],
 "metadata": {
  "kernelspec": {
   "display_name": "Python 3",
   "language": "python",
   "name": "python3"
  },
  "language_info": {
   "codemirror_mode": {
    "name": "ipython",
    "version": 3
   },
   "file_extension": ".py",
   "mimetype": "text/x-python",
   "name": "python",
   "nbconvert_exporter": "python",
   "pygments_lexer": "ipython3",
   "version": "3.6.4"
  }
 },
 "nbformat": 4,
 "nbformat_minor": 2
}
