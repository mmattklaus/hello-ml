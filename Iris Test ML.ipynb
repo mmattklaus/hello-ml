{
 "cells": [
  {
   "cell_type": "code",
   "execution_count": 2,
   "metadata": {
    "collapsed": true
   },
   "outputs": [],
   "source": [
    "from sklearn.datasets import load_iris\n",
    "from sklearn.tree import DecisionTreeClassifier\n",
    "import numpy as np"
   ]
  },
  {
   "cell_type": "code",
   "execution_count": 46,
   "metadata": {},
   "outputs": [
    {
     "name": "stdout",
     "output_type": "stream",
     "text": [
      "['setosa' 'versicolor' 'virginica']\n"
     ]
    }
   ],
   "source": [
    "# Step 1\n",
    "## Load Data\n",
    "iris = load_iris()\n",
    "test_set = [0, 99, 149]\n",
    "# Training set\n",
    "training_data = np.delete(iris.data, test_set, axis=0)\n",
    "training_features = np.delete(iris.target, test_set, None)\n",
    "# Test set\n",
    "test_data = iris.data[test_set]\n",
    "test_features = iris.target[test_set]\n",
    "print(iris.target_names)"
   ]
  },
  {
   "cell_type": "code",
   "execution_count": 4,
   "metadata": {
    "scrolled": true
   },
   "outputs": [
    {
     "name": "stdout",
     "output_type": "stream",
     "text": [
      "['setosa' 'versicolor' 'virginica']\n",
      "['sepal length (cm)', 'sepal width (cm)', 'petal length (cm)', 'petal width (cm)']\n",
      "147\n"
     ]
    }
   ],
   "source": [
    "print(iris.target_names)\n",
    "print(iris.feature_names)\n",
    "print(len(training_data))"
   ]
  },
  {
   "cell_type": "code",
   "execution_count": 5,
   "metadata": {
    "collapsed": true
   },
   "outputs": [],
   "source": [
    "# Step 2\n",
    "## Training Classifier\n",
    "clf = DecisionTreeClassifier()\n",
    "clf = clf.fit(training_data, training_features)\n"
   ]
  },
  {
   "cell_type": "code",
   "execution_count": 10,
   "metadata": {},
   "outputs": [
    {
     "name": "stdout",
     "output_type": "stream",
     "text": [
      "[0 1 2]\n",
      "Actual set:  [0 1 2]\n"
     ]
    }
   ],
   "source": [
    "# Step 3\n",
    "## Test Data\n",
    "print(clf.predict(test_data))\n",
    "print(\"Actual set: \", test_features)"
   ]
  },
  {
   "cell_type": "code",
   "execution_count": 7,
   "metadata": {},
   "outputs": [],
   "source": [
    "from sklearn.tree import export_graphviz\n",
    "# from sklearn.externals.six import StringIO\n",
    "# import pydot\n",
    "import graphviz"
   ]
  },
  {
   "cell_type": "code",
   "execution_count": 8,
   "metadata": {},
   "outputs": [
    {
     "data": {
      "text/plain": [
       "'Iris.pdf'"
      ]
     },
     "execution_count": 8,
     "metadata": {},
     "output_type": "execute_result"
    }
   ],
   "source": [
    "# Visualizing the Decision Tree\n",
    "# dot_data = StringIO()\n",
    "dot_data = export_graphviz(clf, out_file=None, \n",
    "               feature_names=iris.feature_names,\n",
    "               class_names=iris.target_names,\n",
    "               filled=True, rounded=True, impurity=False,\n",
    "               special_characters=True)\n",
    "# graph = pydot.graph_from_dot_data(dot_data.getvalue())\n",
    "# graph.write_pdf(\"iris.pdf\")\n",
    "graph = graphviz.Source(dot_data)\n",
    "graph.render(\"Iris\")"
   ]
  },
  {
   "cell_type": "code",
   "execution_count": 51,
   "metadata": {},
   "outputs": [
    {
     "name": "stdout",
     "output_type": "stream",
     "text": [
      "sepal length (cm)\tsepal width (cm)\tpetal length (cm)\tpetal width (cm)\t\tLabel\n",
      "\t5.1\t\t\t3.5\t\t\t1.4\t\t\t0.2\t\t\tsetosa\n",
      "\t5.7\t\t\t2.8\t\t\t4.1\t\t\t1.3\t\t\tversicolor\n",
      "\t5.9\t\t\t3.0\t\t\t5.1\t\t\t1.8\t\t\tvirginica\n"
     ]
    }
   ],
   "source": [
    "# Visualizing test data for comparism with Iris.pdf\n",
    "for f in iris.feature_names:\n",
    "    print(\"%s\\t\" % f, end=\"\")\n",
    "print((\"\\t\") + \"Label\")\n",
    "index = 0\n",
    "for features in test_data:\n",
    "    for feature in features:\n",
    "        print(\"\\t%s\\t\\t\" % feature, end=\"\")\n",
    "    print(\"\\t%s\" % iris.target_names[test_features[index]])\n",
    "    index += 1"
   ]
  },
  {
   "cell_type": "code",
   "execution_count": null,
   "metadata": {
    "collapsed": true
   },
   "outputs": [],
   "source": []
  }
 ],
 "metadata": {
  "kernelspec": {
   "display_name": "Python 3",
   "language": "python",
   "name": "python3"
  },
  "language_info": {
   "codemirror_mode": {
    "name": "ipython",
    "version": 3
   },
   "file_extension": ".py",
   "mimetype": "text/x-python",
   "name": "python",
   "nbconvert_exporter": "python",
   "pygments_lexer": "ipython3",
   "version": "3.6.1"
  }
 },
 "nbformat": 4,
 "nbformat_minor": 2
}
