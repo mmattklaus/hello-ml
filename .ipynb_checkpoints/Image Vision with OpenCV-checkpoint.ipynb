{
 "cells": [
  {
   "cell_type": "code",
   "execution_count": 2,
   "metadata": {
    "collapsed": true
   },
   "outputs": [],
   "source": [
    "import cv2 as ocv\n",
    "import os"
   ]
  },
  {
   "cell_type": "code",
   "execution_count": 4,
   "metadata": {},
   "outputs": [
    {
     "data": {
      "text/plain": [
       "['.git',\n",
       " '.gitignore',\n",
       " '.ipynb_checkpoints',\n",
       " 'Classifiers and accuracy.ipynb',\n",
       " 'Hello, ML.ipynb',\n",
       " 'Image Classifier.ipynb',\n",
       " 'Image Vision with OpenCV.ipynb',\n",
       " 'images',\n",
       " 'Iris',\n",
       " 'Iris ML.ipynb',\n",
       " 'Iris Test ML.ipynb',\n",
       " 'iris-decision-tree-visualization--(Iris.pdf).PNG',\n",
       " 'Iris.pdf',\n",
       " 'README.md']"
      ]
     },
     "execution_count": 4,
     "metadata": {},
     "output_type": "execute_result"
    }
   ],
   "source": [
    "os.listdir()"
   ]
  },
  {
   "cell_type": "code",
   "execution_count": 6,
   "metadata": {},
   "outputs": [
    {
     "data": {
      "text/plain": [
       "True"
      ]
     },
     "execution_count": 6,
     "metadata": {},
     "output_type": "execute_result"
    }
   ],
   "source": [
    "fox = ocv.imread('images/fox.jpg')\n",
    "ocv.imwrite('images/fox.png', fox)"
   ]
  },
  {
   "cell_type": "code",
   "execution_count": 15,
   "metadata": {},
   "outputs": [
    {
     "data": {
      "text/plain": [
       "True"
      ]
     },
     "execution_count": 15,
     "metadata": {},
     "output_type": "execute_result"
    }
   ],
   "source": [
    "fox = ocv.imread('images/fox.jpg', ocv.IMREAD_UNCHANGED)\n",
    "ocv.imwrite('images/fox-.png', fox)"
   ]
  },
  {
   "cell_type": "code",
   "execution_count": 21,
   "metadata": {
    "scrolled": true
   },
   "outputs": [
    {
     "name": "stdout",
     "output_type": "stream",
     "text": [
      "Python wrapper for OpenCV.\n"
     ]
    }
   ],
   "source": [
    "print(ocv.__doc__)"
   ]
  },
  {
   "cell_type": "code",
   "execution_count": 22,
   "metadata": {
    "collapsed": true
   },
   "outputs": [],
   "source": [
    "import matplotlib.pyplot as plt"
   ]
  },
  {
   "cell_type": "code",
   "execution_count": 35,
   "metadata": {
    "collapsed": true
   },
   "outputs": [],
   "source": [
    "from sklearn import datasets"
   ]
  },
  {
   "cell_type": "code",
   "execution_count": 29,
   "metadata": {
    "collapsed": true
   },
   "outputs": [],
   "source": [
    "X, y = datasets.make_classification(n_samples=100, n_classes=2, n_redundant=0, n_features=2, random_state=7816)"
   ]
  },
  {
   "cell_type": "code",
   "execution_count": 30,
   "metadata": {
    "collapsed": true
   },
   "outputs": [],
   "source": [
    "%matplotlib inline"
   ]
  },
  {
   "cell_type": "code",
   "execution_count": 32,
   "metadata": {},
   "outputs": [
    {
     "data": {
      "text/plain": [
       "<matplotlib.text.Text at 0x259239d87b8>"
      ]
     },
     "execution_count": 32,
     "metadata": {},
     "output_type": "execute_result"
    },
    {
     "data": {
      "image/png": "[encoded data removed]",
      "text/plain": [
       "<matplotlib.figure.Figure at 0x259238f67f0>"
      ]
     },
     "metadata": {},
     "output_type": "display_data"
    }
   ],
   "source": [
    "plt.scatter(X[:,0], X[:,1], c=y, s=100)\n",
    "plt.xlabel('x values')\n",
    "plt.ylabel('y values')"
   ]
  },
  {
   "cell_type": "code",
   "execution_count": 42,
   "metadata": {
    "collapsed": true
   },
   "outputs": [],
   "source": [
    "import numpy as np\n",
    "import sklearn.model_selection\n",
    "\n",
    "X = X.astype(np.float32)\n",
    "y = y*2 - 1\n",
    "\n",
    "X_train, X_test, y_train, y_test = model_selection.train_test_split(\n",
    "    X, y, test_size=.2, random_state=42)"
   ]
  },
  {
   "cell_type": "code",
   "execution_count": 44,
   "metadata": {
    "collapsed": true
   },
   "outputs": [
    {
     "name": "stdout",
     "output_type": "stream",
     "text": [
      "[[-0.61702013 -1.9507395 ]\n",
      " [ 1.64507484 -0.42228991]\n",
      " [ 1.76400936 -0.23332804]\n",
      " [ 1.24868345 -0.68655598]\n",
      " [ 1.63341594  1.67385817]\n",
      " [ 1.21837044 -0.76691687]\n",
      " [ 0.16054986  0.19849268]\n",
      " [-0.12785649 -2.08403921]\n",
      " [ 0.12317213  0.0359357 ]\n",
      " [-0.97091949 -1.21352816]\n",
      " [-0.11676288 -1.70371902]\n",
      " [ 0.0280838  -1.9391911 ]\n",
      " [-0.81110406 -1.43104017]\n",
      " [ 0.22020994 -1.82224548]\n",
      " [ 2.17262435  2.62397766]\n",
      " [ 0.66845876 -1.35596573]\n",
      " [-1.24064624 -0.20070334]\n",
      " [ 1.64714384 -0.36924782]\n",
      " [ 1.24067998 -0.76143456]\n",
      " [ 0.61339664 -1.22420228]\n",
      " [-1.0935117  -1.29214168]\n",
      " [ 0.10722372 -1.88518071]\n",
      " [-1.4251138   0.02189843]\n",
      " [ 1.84411681 -0.20444912]\n",
      " [-1.11126006  2.67746186]\n",
      " [-0.78300637 -0.33697492]\n",
      " [-0.72720808 -2.75131321]\n",
      " [ 1.18163192 -0.87925291]\n",
      " [-0.48523769 -1.45480609]\n",
      " [ 0.29403061 -2.17490077]\n",
      " [ 1.88749146  2.1838789 ]\n",
      " [-1.57948482  1.8115468 ]\n",
      " [ 2.15315175  2.24719715]\n",
      " [ 0.76921976 -1.21394444]\n",
      " [-0.95387596  1.09136093]\n",
      " [ 2.21872211  0.36066234]\n",
      " [ 1.65138936  1.93640041]\n",
      " [ 1.70481372  1.92257178]\n",
      " [ 3.01591659  0.92949766]\n",
      " [ 0.64935589  1.78099871]\n",
      " [-1.38829529 -0.66836047]\n",
      " [ 1.03089631 -0.90877813]\n",
      " [ 0.90261936 -1.09076071]\n",
      " [ 0.39993578  0.74181348]\n",
      " [ 1.01046479  0.93917257]\n",
      " [ 2.56844568  2.5450635 ]\n",
      " [ 1.11645019  0.73387271]\n",
      " [-0.8226732  -2.05542779]\n",
      " [ 0.77870232 -1.08163691]\n",
      " [-1.64989853  2.11367917]\n",
      " [-2.81748295 -0.03595557]\n",
      " [-1.55889976 -1.20254529]\n",
      " [-0.88811916 -2.08598375]\n",
      " [ 1.72685111 -0.28413209]\n",
      " [ 2.0856595  -0.13440621]\n",
      " [-0.36259544 -1.66559184]\n",
      " [ 0.5211277   2.19571328]\n",
      " [-1.1780349  -1.56816769]\n",
      " [-0.63837975 -0.8762331 ]\n",
      " [-1.05286264  0.02201376]\n",
      " [-0.77353811 -1.36428285]\n",
      " [-0.72482103 -1.57157242]\n",
      " [ 0.96719933  2.08586621]\n",
      " [ 0.3581408   0.32014772]\n",
      " [-2.38800335  0.46342805]\n",
      " [-1.15626884 -1.52886474]\n",
      " [-1.7272867   1.194754  ]\n",
      " [ 0.29003623 -2.77185011]\n",
      " [-0.24574374  2.45589471]\n",
      " [-0.38786876 -2.18552136]\n",
      " [-2.14994025  1.77974153]\n",
      " [ 0.04206933 -2.06477427]\n",
      " [ 1.04314756  0.80665034]\n",
      " [-0.51536089 -0.1795183 ]\n",
      " [ 0.22016343  0.18310092]\n",
      " [-1.69749498  1.93045902]\n",
      " [ 0.93875206  0.79173493]\n",
      " [-1.39469302 -1.4552505 ]\n",
      " [-1.50841618  1.13657892]\n",
      " [ 0.39250737  0.1004171 ]] [-1 -1 -1 -1  1 -1  1 -1  1 -1 -1 -1 -1 -1  1 -1 -1 -1 -1 -1 -1 -1  1 -1  1\n",
      "  1 -1 -1 -1  1  1  1  1 -1  1 -1  1  1 -1  1 -1 -1 -1  1  1  1  1 -1 -1  1\n",
      "  1 -1 -1 -1 -1  1  1 -1  1 -1 -1  1  1  1  1 -1  1 -1  1 -1  1 -1  1  1  1\n",
      "  1  1 -1  1  1]\n"
     ]
    }
   ],
   "source": [
    "print(X_train, y_train)"
   ]
  },
  {
   "cell_type": "code",
   "execution_count": 46,
   "metadata": {},
   "outputs": [],
   "source": [
    "svm = ocv.ml.SVM_create()"
   ]
  },
  {
   "cell_type": "code",
   "execution_count": 48,
   "metadata": {},
   "outputs": [],
   "source": [
    "svm.setKernel(ocv.ml.SVM_LINEAR)"
   ]
  },
  {
   "cell_type": "code",
   "execution_count": 49,
   "metadata": {},
   "outputs": [
    {
     "data": {
      "text/plain": [
       "True"
      ]
     },
     "execution_count": 49,
     "metadata": {},
     "output_type": "execute_result"
    }
   ],
   "source": [
    "svm.train(X_train, ocv.ml.ROW_SAMPLE, y_train)"
   ]
  },
  {
   "cell_type": "code",
   "execution_count": 50,
   "metadata": {
    "collapsed": true
   },
   "outputs": [],
   "source": [
    "_, y_predict = svm.predict(X_test)"
   ]
  },
  {
   "cell_type": "code",
   "execution_count": 59,
   "metadata": {},
   "outputs": [
    {
     "name": "stdout",
     "output_type": "stream",
     "text": [
      "Accuracy 0.8\n",
      "0.8\n"
     ]
    }
   ],
   "source": [
    "from sklearn.metrics import accuracy_score\n",
    "acc = accuracy_score(y_test, y_predict)\n",
    "print(\"Accuracy {}\".format(acc))"
   ]
  },
  {
   "cell_type": "code",
   "execution_count": 60,
   "metadata": {
    "collapsed": true
   },
   "outputs": [],
   "source": [
    "def plot_decision_boundary(svm, X_test, y_test):\n",
    "    x_min, x_max = X_test[:, 0].min() - 1, X_test[:, 0].max() + 1\n",
    "    y_min, y_max = X_test[:, 1].min() - 1, X_test[:, 1].max() + 1\n",
    "    h = 0.02  # step size in mesh\n",
    "    xx, yy = np.meshgrid(np.arange(x_min, x_max, h), np.arange(y_min, y_max, h))\n",
    "    X_hypo = np.c_[xx.ravel().astype(np.float32), yy.ravel().astype(np.float32)]\n",
    "    X_hypo = np.c_[xx.ravel().astype(np.float32), yy.ravel().astype(np.float32)]\n",
    "    _, zz = svm.predict(X_hypo)\n",
    "    _, zz = svm.predict(X_hypo)\n",
    "    zz = zz.reshape(xx.shape)\n",
    "    plt.contourf(xx, yy, zz, cmap=plt.cm.coolwarm, alpha=0.8)\n",
    "    plt.scatter(X_test[:, 0], X_test[:, 1], c=y_test, s=200)"
   ]
  },
  {
   "cell_type": "code",
   "execution_count": 61,
   "metadata": {},
   "outputs": [
    {
     "data": {
      "image/png": "[encoded data removed]",
      "text/plain": [
       "<matplotlib.figure.Figure at 0x25923b11d68>"
      ]
     },
     "metadata": {},
     "output_type": "display_data"
    }
   ],
   "source": [
    "plot_decision_boundary(svm, X_test, y_test)"
   ]
  },
  {
   "cell_type": "code",
   "execution_count": 65,
   "metadata": {},
   "outputs": [],
   "source": [
    "# Trying out different Kernels\n",
    "\n",
    "kernels = [ocv.ml.SVM_LINEAR, ocv.ml.SVM_C, ocv.ml.SVM_INTER, \n",
    "           ocv.ml.SVM_SIGMOID, ocv.ml.SVM_RBF]\n"
   ]
  },
  {
   "cell_type": "code",
   "execution_count": 67,
   "metadata": {},
   "outputs": [
    {
     "data": {
      "image/png": "[encoded data removed]",
      "text/plain": [
       "<matplotlib.figure.Figure at 0x25923a6dd68>"
      ]
     },
     "metadata": {},
     "output_type": "display_data"
    }
   ],
   "source": [
    "for idx, kernel in enumerate(kernels):\n",
    "    svm = ocv.ml.SVM_create()\n",
    "    svm.setKernel(kernel)\n",
    "    svm.train(X_train, ocv.ml.ROW_SAMPLE, y_train)\n",
    "    _, test_pred = svm.predict(X_test)\n",
    "    acc = accuracy_score(y_test, test_pred)\n",
    "    plt.subplot(2, 3, idx + 1)\n",
    "    plot_decision_boundary(svm, X_test, y_test)\n",
    "    plt.title('Accuracy: %.2f' % acc)"
   ]
  },
  {
   "cell_type": "markdown",
   "metadata": {},
   "source": [
    "# Detecting Pedestrians in the wild"
   ]
  },
  {
   "cell_type": "code",
   "execution_count": 83,
   "metadata": {},
   "outputs": [],
   "source": [
    "def extract_tar(filename):\n",
    "    datadir = 'data'\n",
    "    datafile = '%s/%s.tar.gz' % (datadir, filename)\n",
    "    extractdir = '%s' % (datadir)\n",
    "\n",
    "    try:\n",
    "        import tarfile\n",
    "    except ImportError:\n",
    "        print(\"Failed to import module 'tarfile'. \\\n",
    "              Please try extracting out of python\")\n",
    "    tar = tarfile.open(datafile)\n",
    "    tar.extractall(path=extractdir)\n",
    "    tar.close()\n",
    "    print('Successfully extracted %s to %s' % (datafile, extractdir))"
   ]
  },
  {
   "cell_type": "code",
   "execution_count": 111,
   "metadata": {},
   "outputs": [
    {
     "name": "stdout",
     "output_type": "stream",
     "text": [
      "Successfully extracted data/pedestrians128x64.tar.gz to data\n"
     ]
    }
   ],
   "source": [
    "datadir = 'data'\n",
    "dataset = 'pedestrians128x64'\n",
    "extract_tar(dataset)"
   ]
  },
  {
   "cell_type": "code",
   "execution_count": 112,
   "metadata": {
    "scrolled": true
   },
   "outputs": [
    {
     "data": {
      "text/plain": [
       "['per00001.ppm',\n",
       " 'per00002.ppm',\n",
       " 'per00003.ppm',\n",
       " 'per00004.ppm',\n",
       " 'per00005.ppm',\n",
       " 'per00006.ppm',\n",
       " 'per00007.ppm',\n",
       " 'per00008.ppm',\n",
       " 'per00009.ppm',\n",
       " 'per00010.ppm',\n",
       " 'per00011.ppm',\n",
       " 'per00012.ppm',\n",
       " 'per00013.ppm',\n",
       " 'per00014.ppm',\n",
       " 'per00015.ppm',\n",
       " 'per00016.ppm',\n",
       " 'per00017.ppm',\n",
       " 'per00018.ppm',\n",
       " 'per00019.ppm',\n",
       " 'per00020.ppm',\n",
       " 'per00021.ppm',\n",
       " 'per00022.ppm',\n",
       " 'per00023.ppm',\n",
       " 'per00024.ppm',\n",
       " 'per00025.ppm',\n",
       " 'per00026.ppm',\n",
       " 'per00027.ppm',\n",
       " 'per00028.ppm',\n",
       " 'per00029.ppm',\n",
       " 'per00030.ppm',\n",
       " 'per00031.ppm',\n",
       " 'per00032.ppm',\n",
       " 'per00033.ppm',\n",
       " 'per00034.ppm',\n",
       " 'per00035.ppm',\n",
       " 'per00036.ppm',\n",
       " 'per00037.ppm',\n",
       " 'per00038.ppm',\n",
       " 'per00039.ppm',\n",
       " 'per00040.ppm',\n",
       " 'per00041.ppm',\n",
       " 'per00042.ppm',\n",
       " 'per00043.ppm',\n",
       " 'per00044.ppm',\n",
       " 'per00045.ppm',\n",
       " 'per00046.ppm',\n",
       " 'per00047.ppm',\n",
       " 'per00048.ppm',\n",
       " 'per00049.ppm',\n",
       " 'per00050.ppm',\n",
       " 'per00051.ppm',\n",
       " 'per00052.ppm',\n",
       " 'per00053.ppm',\n",
       " 'per00054.ppm',\n",
       " 'per00055.ppm',\n",
       " 'per00056.ppm',\n",
       " 'per00057.ppm',\n",
       " 'per00058.ppm',\n",
       " 'per00059.ppm',\n",
       " 'per00060.ppm',\n",
       " 'per00061.ppm',\n",
       " 'per00062.ppm',\n",
       " 'per00063.ppm',\n",
       " 'per00064.ppm',\n",
       " 'per00065.ppm',\n",
       " 'per00066.ppm',\n",
       " 'per00067.ppm',\n",
       " 'per00068.ppm',\n",
       " 'per00069.ppm',\n",
       " 'per00070.ppm',\n",
       " 'per00071.ppm',\n",
       " 'per00072.ppm',\n",
       " 'per00073.ppm',\n",
       " 'per00074.ppm',\n",
       " 'per00075.ppm',\n",
       " 'per00076.ppm',\n",
       " 'per00077.ppm',\n",
       " 'per00078.ppm',\n",
       " 'per00079.ppm',\n",
       " 'per00080.ppm',\n",
       " 'per00081.ppm',\n",
       " 'per00082.ppm',\n",
       " 'per00083.ppm',\n",
       " 'per00084.ppm',\n",
       " 'per00085.ppm',\n",
       " 'per00086.ppm',\n",
       " 'per00087.ppm',\n",
       " 'per00088.ppm',\n",
       " 'per00089.ppm',\n",
       " 'per00090.ppm',\n",
       " 'per00091.ppm',\n",
       " 'per00092.ppm',\n",
       " 'per00093.ppm',\n",
       " 'per00094.ppm',\n",
       " 'per00095.ppm',\n",
       " 'per00096.ppm',\n",
       " 'per00097.ppm',\n",
       " 'per00098.ppm',\n",
       " 'per00099.ppm',\n",
       " 'per00100.ppm',\n",
       " 'per00101.ppm',\n",
       " 'per00102.ppm',\n",
       " 'per00103.ppm',\n",
       " 'per00104.ppm',\n",
       " 'per00105.ppm',\n",
       " 'per00106.ppm',\n",
       " 'per00107.ppm',\n",
       " 'per00108.ppm',\n",
       " 'per00109.ppm',\n",
       " 'per00110.ppm',\n",
       " 'per00111.ppm',\n",
       " 'per00112.ppm',\n",
       " 'per00113.ppm',\n",
       " 'per00114.ppm',\n",
       " 'per00115.ppm',\n",
       " 'per00116.ppm',\n",
       " 'per00117.ppm',\n",
       " 'per00118.ppm',\n",
       " 'per00119.ppm',\n",
       " 'per00120.ppm',\n",
       " 'per00121.ppm',\n",
       " 'per00122.ppm',\n",
       " 'per00123.ppm',\n",
       " 'per00124.ppm',\n",
       " 'per00125.ppm',\n",
       " 'per00126.ppm',\n",
       " 'per00127.ppm',\n",
       " 'per00128.ppm',\n",
       " 'per00129.ppm',\n",
       " 'per00130.ppm',\n",
       " 'per00131.ppm',\n",
       " 'per00132.ppm',\n",
       " 'per00133.ppm',\n",
       " 'per00134.ppm',\n",
       " 'per00135.ppm',\n",
       " 'per00136.ppm',\n",
       " 'per00137.ppm',\n",
       " 'per00138.ppm',\n",
       " 'per00139.ppm',\n",
       " 'per00140.ppm',\n",
       " 'per00141.ppm',\n",
       " 'per00142.ppm',\n",
       " 'per00143.ppm',\n",
       " 'per00144.ppm',\n",
       " 'per00145.ppm',\n",
       " 'per00146.ppm',\n",
       " 'per00147.ppm',\n",
       " 'per00148.ppm',\n",
       " 'per00149.ppm',\n",
       " 'per00150.ppm',\n",
       " 'per00151.ppm',\n",
       " 'per00152.ppm',\n",
       " 'per00153.ppm',\n",
       " 'per00154.ppm',\n",
       " 'per00155.ppm',\n",
       " 'per00156.ppm',\n",
       " 'per00157.ppm',\n",
       " 'per00158.ppm',\n",
       " 'per00159.ppm',\n",
       " 'per00160.ppm',\n",
       " 'per00161.ppm',\n",
       " 'per00162.ppm',\n",
       " 'per00163.ppm',\n",
       " 'per00164.ppm',\n",
       " 'per00165.ppm',\n",
       " 'per00166.ppm',\n",
       " 'per00167.ppm',\n",
       " 'per00168.ppm',\n",
       " 'per00169.ppm',\n",
       " 'per00170.ppm',\n",
       " 'per00171.ppm',\n",
       " 'per00172.ppm',\n",
       " 'per00173.ppm',\n",
       " 'per00174.ppm',\n",
       " 'per00175.ppm',\n",
       " 'per00176.ppm',\n",
       " 'per00177.ppm',\n",
       " 'per00178.ppm',\n",
       " 'per00179.ppm',\n",
       " 'per00180.ppm',\n",
       " 'per00181.ppm',\n",
       " 'per00182.ppm',\n",
       " 'per00183.ppm',\n",
       " 'per00184.ppm',\n",
       " 'per00185.ppm',\n",
       " 'per00186.ppm',\n",
       " 'per00187.ppm',\n",
       " 'per00188.ppm',\n",
       " 'per00189.ppm',\n",
       " 'per00190.ppm',\n",
       " 'per00191.ppm',\n",
       " 'per00192.ppm',\n",
       " 'per00193.ppm',\n",
       " 'per00194.ppm',\n",
       " 'per00195.ppm',\n",
       " 'per00196.ppm',\n",
       " 'per00197.ppm',\n",
       " 'per00198.ppm',\n",
       " 'per00199.ppm',\n",
       " 'per00200.ppm',\n",
       " 'per00201.ppm',\n",
       " 'per00202.ppm',\n",
       " 'per00203.ppm',\n",
       " 'per00204.ppm',\n",
       " 'per00205.ppm',\n",
       " 'per00206.ppm',\n",
       " 'per00207.ppm',\n",
       " 'per00208.ppm',\n",
       " 'per00209.ppm',\n",
       " 'per00210.ppm',\n",
       " 'per00211.ppm',\n",
       " 'per00212.ppm',\n",
       " 'per00213.ppm',\n",
       " 'per00214.ppm',\n",
       " 'per00215.ppm',\n",
       " 'per00216.ppm',\n",
       " 'per00217.ppm',\n",
       " 'per00218.ppm',\n",
       " 'per00219.ppm',\n",
       " 'per00220.ppm',\n",
       " 'per00221.ppm',\n",
       " 'per00222.ppm',\n",
       " 'per00223.ppm',\n",
       " 'per00224.ppm',\n",
       " 'per00225.ppm',\n",
       " 'per00226.ppm',\n",
       " 'per00227.ppm',\n",
       " 'per00228.ppm',\n",
       " 'per00229.ppm',\n",
       " 'per00230.ppm',\n",
       " 'per00231.ppm',\n",
       " 'per00232.ppm',\n",
       " 'per00233.ppm',\n",
       " 'per00234.ppm',\n",
       " 'per00235.ppm',\n",
       " 'per00236.ppm',\n",
       " 'per00237.ppm',\n",
       " 'per00238.ppm',\n",
       " 'per00239.ppm',\n",
       " 'per00240.ppm',\n",
       " 'per00241.ppm',\n",
       " 'per00242.ppm',\n",
       " 'per00243.ppm',\n",
       " 'per00244.ppm',\n",
       " 'per00245.ppm',\n",
       " 'per00246.ppm',\n",
       " 'per00247.ppm',\n",
       " 'per00248.ppm',\n",
       " 'per00249.ppm',\n",
       " 'per00250.ppm',\n",
       " 'per00251.ppm',\n",
       " 'per00252.ppm',\n",
       " 'per00253.ppm',\n",
       " 'per00254.ppm',\n",
       " 'per00255.ppm',\n",
       " 'per00256.ppm',\n",
       " 'per00257.ppm',\n",
       " 'per00258.ppm',\n",
       " 'per00259.ppm',\n",
       " 'per00260.ppm',\n",
       " 'per00261.ppm',\n",
       " 'per00262.ppm',\n",
       " 'per00263.ppm',\n",
       " 'per00264.ppm',\n",
       " 'per00265.ppm',\n",
       " 'per00266.ppm',\n",
       " 'per00267.ppm',\n",
       " 'per00268.ppm',\n",
       " 'per00269.ppm',\n",
       " 'per00270.ppm',\n",
       " 'per00271.ppm',\n",
       " 'per00272.ppm',\n",
       " 'per00273.ppm',\n",
       " 'per00274.ppm',\n",
       " 'per00275.ppm',\n",
       " 'per00276.ppm',\n",
       " 'per00277.ppm',\n",
       " 'per00278.ppm',\n",
       " 'per00279.ppm',\n",
       " 'per00280.ppm',\n",
       " 'per00281.ppm',\n",
       " 'per00282.ppm',\n",
       " 'per00283.ppm',\n",
       " 'per00284.ppm',\n",
       " 'per00285.ppm',\n",
       " 'per00286.ppm',\n",
       " 'per00287.ppm',\n",
       " 'per00288.ppm',\n",
       " 'per00289.ppm',\n",
       " 'per00290.ppm',\n",
       " 'per00291.ppm',\n",
       " 'per00292.ppm',\n",
       " 'per00293.ppm',\n",
       " 'per00294.ppm',\n",
       " 'per00295.ppm',\n",
       " 'per00296.ppm',\n",
       " 'per00297.ppm',\n",
       " 'per00298.ppm',\n",
       " 'per00299.ppm',\n",
       " 'per00300.ppm',\n",
       " 'per00301.ppm',\n",
       " 'per00302.ppm',\n",
       " 'per00303.ppm',\n",
       " 'per00304.ppm',\n",
       " 'per00305.ppm',\n",
       " 'per00306.ppm',\n",
       " 'per00307.ppm',\n",
       " 'per00308.ppm',\n",
       " 'per00309.ppm',\n",
       " 'per00310.ppm',\n",
       " 'per00311.ppm',\n",
       " 'per00312.ppm',\n",
       " 'per00313.ppm',\n",
       " 'per00314.ppm',\n",
       " 'per00315.ppm',\n",
       " 'per00316.ppm',\n",
       " 'per00317.ppm',\n",
       " 'per00318.ppm',\n",
       " 'per00319.ppm',\n",
       " 'per00320.ppm',\n",
       " 'per00321.ppm',\n",
       " 'per00322.ppm',\n",
       " 'per00323.ppm',\n",
       " 'per00324.ppm',\n",
       " 'per00325.ppm',\n",
       " 'per00326.ppm',\n",
       " 'per00327.ppm',\n",
       " 'per00328.ppm',\n",
       " 'per00329.ppm',\n",
       " 'per00330.ppm',\n",
       " 'per00331.ppm',\n",
       " 'per00332.ppm',\n",
       " 'per00333.ppm',\n",
       " 'per00334.ppm',\n",
       " 'per00335.ppm',\n",
       " 'per00336.ppm',\n",
       " 'per00337.ppm',\n",
       " 'per00338.ppm',\n",
       " 'per00339.ppm',\n",
       " 'per00340.ppm',\n",
       " 'per00341.ppm',\n",
       " 'per00342.ppm',\n",
       " 'per00343.ppm',\n",
       " 'per00344.ppm',\n",
       " 'per00345.ppm',\n",
       " 'per00346.ppm',\n",
       " 'per00347.ppm',\n",
       " 'per00348.ppm',\n",
       " 'per00349.ppm',\n",
       " 'per00350.ppm',\n",
       " 'per00351.ppm',\n",
       " 'per00352.ppm',\n",
       " 'per00353.ppm',\n",
       " 'per00354.ppm',\n",
       " 'per00355.ppm',\n",
       " 'per00356.ppm',\n",
       " 'per00357.ppm',\n",
       " 'per00358.ppm',\n",
       " 'per00359.ppm',\n",
       " 'per00360.ppm',\n",
       " 'per00361.ppm',\n",
       " 'per00362.ppm',\n",
       " 'per00363.ppm',\n",
       " 'per00364.ppm',\n",
       " 'per00365.ppm',\n",
       " 'per00366.ppm',\n",
       " 'per00367.ppm',\n",
       " 'per00368.ppm',\n",
       " 'per00369.ppm',\n",
       " 'per00370.ppm',\n",
       " 'per00371.ppm',\n",
       " 'per00372.ppm',\n",
       " 'per00373.ppm',\n",
       " 'per00374.ppm',\n",
       " 'per00375.ppm',\n",
       " 'per00376.ppm',\n",
       " 'per00377.ppm',\n",
       " 'per00378.ppm',\n",
       " 'per00379.ppm',\n",
       " 'per00380.ppm',\n",
       " 'per00381.ppm',\n",
       " 'per00382.ppm',\n",
       " 'per00383.ppm',\n",
       " 'per00384.ppm',\n",
       " 'per00385.ppm',\n",
       " 'per00386.ppm',\n",
       " 'per00387.ppm',\n",
       " 'per00388.ppm',\n",
       " 'per00389.ppm',\n",
       " 'per00390.ppm',\n",
       " 'per00391.ppm',\n",
       " 'per00392.ppm',\n",
       " 'per00393.ppm',\n",
       " 'per00394.ppm',\n",
       " 'per00395.ppm',\n",
       " 'per00396.ppm',\n",
       " 'per00397.ppm',\n",
       " 'per00398.ppm',\n",
       " 'per00399.ppm',\n",
       " 'per00400.ppm',\n",
       " 'per00401.ppm',\n",
       " 'per00402.ppm',\n",
       " 'per00403.ppm',\n",
       " 'per00404.ppm',\n",
       " 'per00405.ppm',\n",
       " 'per00406.ppm',\n",
       " 'per00407.ppm',\n",
       " 'per00408.ppm',\n",
       " 'per00409.ppm',\n",
       " 'per00410.ppm',\n",
       " 'per00411.ppm',\n",
       " 'per00412.ppm',\n",
       " 'per00413.ppm',\n",
       " 'per00414.ppm',\n",
       " 'per00415.ppm',\n",
       " 'per00416.ppm',\n",
       " 'per00417.ppm',\n",
       " 'per00418.ppm',\n",
       " 'per00419.ppm',\n",
       " 'per00420.ppm',\n",
       " 'per00421.ppm',\n",
       " 'per00422.ppm',\n",
       " 'per00423.ppm',\n",
       " 'per00424.ppm',\n",
       " 'per00425.ppm',\n",
       " 'per00426.ppm',\n",
       " 'per00427.ppm',\n",
       " 'per00428.ppm',\n",
       " 'per00429.ppm',\n",
       " 'per00430.ppm',\n",
       " 'per00431.ppm',\n",
       " 'per00432.ppm',\n",
       " 'per00433.ppm',\n",
       " 'per00434.ppm',\n",
       " 'per00435.ppm',\n",
       " 'per00436.ppm',\n",
       " 'per00437.ppm',\n",
       " 'per00438.ppm',\n",
       " 'per00439.ppm',\n",
       " 'per00440.ppm',\n",
       " 'per00441.ppm',\n",
       " 'per00442.ppm',\n",
       " 'per00443.ppm',\n",
       " 'per00444.ppm',\n",
       " 'per00445.ppm',\n",
       " 'per00446.ppm',\n",
       " 'per00447.ppm',\n",
       " 'per00448.ppm',\n",
       " 'per00449.ppm',\n",
       " 'per00450.ppm',\n",
       " 'per00451.ppm',\n",
       " 'per00452.ppm',\n",
       " 'per00453.ppm',\n",
       " 'per00454.ppm',\n",
       " 'per00455.ppm',\n",
       " 'per00456.ppm',\n",
       " 'per00457.ppm',\n",
       " 'per00458.ppm',\n",
       " 'per00459.ppm',\n",
       " 'per00460.ppm',\n",
       " 'per00461.ppm',\n",
       " 'per00462.ppm',\n",
       " 'per00463.ppm',\n",
       " 'per00464.ppm',\n",
       " 'per00465.ppm',\n",
       " 'per00466.ppm',\n",
       " 'per00467.ppm',\n",
       " 'per00468.ppm',\n",
       " 'per00469.ppm',\n",
       " 'per00470.ppm',\n",
       " 'per00471.ppm',\n",
       " 'per00472.ppm',\n",
       " 'per00473.ppm',\n",
       " 'per00474.ppm',\n",
       " 'per00475.ppm',\n",
       " 'per00476.ppm',\n",
       " 'per00477.ppm',\n",
       " 'per00478.ppm',\n",
       " 'per00479.ppm',\n",
       " 'per00480.ppm',\n",
       " 'per00481.ppm',\n",
       " 'per00482.ppm',\n",
       " 'per00483.ppm',\n",
       " 'per00484.ppm',\n",
       " 'per00485.ppm',\n",
       " 'per00486.ppm',\n",
       " 'per00487.ppm',\n",
       " 'per00488.ppm',\n",
       " 'per00489.ppm',\n",
       " 'per00490.ppm',\n",
       " 'per00491.ppm',\n",
       " 'per00492.ppm',\n",
       " 'per00493.ppm',\n",
       " 'per00494.ppm',\n",
       " 'per00495.ppm',\n",
       " 'per00496.ppm',\n",
       " 'per00497.ppm',\n",
       " 'per00498.ppm',\n",
       " 'per00499.ppm',\n",
       " 'per00500.ppm',\n",
       " 'per00501.ppm',\n",
       " 'per00502.ppm',\n",
       " 'per00503.ppm',\n",
       " 'per00504.ppm',\n",
       " 'per00505.ppm',\n",
       " 'per00506.ppm',\n",
       " 'per00507.ppm',\n",
       " 'per00508.ppm',\n",
       " 'per00509.ppm',\n",
       " 'per00510.ppm',\n",
       " 'per00511.ppm',\n",
       " 'per00512.ppm',\n",
       " 'per00513.ppm',\n",
       " 'per00514.ppm',\n",
       " 'per00515.ppm',\n",
       " 'per00516.ppm',\n",
       " 'per00517.ppm',\n",
       " 'per00518.ppm',\n",
       " 'per00519.ppm',\n",
       " 'per00520.ppm',\n",
       " 'per00521.ppm',\n",
       " 'per00522.ppm',\n",
       " 'per00523.ppm',\n",
       " 'per00524.ppm',\n",
       " 'per00525.ppm',\n",
       " 'per00526.ppm',\n",
       " 'per00527.ppm',\n",
       " 'per00528.ppm',\n",
       " 'per00529.ppm',\n",
       " 'per00530.ppm',\n",
       " 'per00531.ppm',\n",
       " 'per00532.ppm',\n",
       " 'per00533.ppm',\n",
       " 'per00534.ppm',\n",
       " 'per00535.ppm',\n",
       " 'per00536.ppm',\n",
       " 'per00537.ppm',\n",
       " 'per00538.ppm',\n",
       " 'per00539.ppm',\n",
       " 'per00540.ppm',\n",
       " 'per00541.ppm',\n",
       " 'per00542.ppm',\n",
       " 'per00543.ppm',\n",
       " 'per00544.ppm',\n",
       " 'per00545.ppm',\n",
       " 'per00546.ppm',\n",
       " 'per00547.ppm',\n",
       " 'per00548.ppm',\n",
       " 'per00549.ppm',\n",
       " 'per00550.ppm',\n",
       " 'per00551.ppm',\n",
       " 'per00552.ppm',\n",
       " 'per00553.ppm',\n",
       " 'per00554.ppm',\n",
       " 'per00555.ppm',\n",
       " 'per00556.ppm',\n",
       " 'per00557.ppm',\n",
       " 'per00558.ppm',\n",
       " 'per00559.ppm',\n",
       " 'per00560.ppm',\n",
       " 'per00561.ppm',\n",
       " 'per00562.ppm',\n",
       " 'per00563.ppm',\n",
       " 'per00564.ppm',\n",
       " 'per00565.ppm',\n",
       " 'per00566.ppm',\n",
       " 'per00567.ppm',\n",
       " 'per00568.ppm',\n",
       " 'per00569.ppm',\n",
       " 'per00570.ppm',\n",
       " 'per00571.ppm',\n",
       " 'per00572.ppm',\n",
       " 'per00573.ppm',\n",
       " 'per00574.ppm',\n",
       " 'per00575.ppm',\n",
       " 'per00576.ppm',\n",
       " 'per00577.ppm',\n",
       " 'per00578.ppm',\n",
       " 'per00579.ppm',\n",
       " 'per00580.ppm',\n",
       " 'per00581.ppm',\n",
       " 'per00582.ppm',\n",
       " 'per00583.ppm',\n",
       " 'per00584.ppm',\n",
       " 'per00585.ppm',\n",
       " 'per00586.ppm',\n",
       " 'per00587.ppm',\n",
       " 'per00588.ppm',\n",
       " 'per00589.ppm',\n",
       " 'per00590.ppm',\n",
       " 'per00591.ppm',\n",
       " 'per00592.ppm',\n",
       " 'per00593.ppm',\n",
       " 'per00594.ppm',\n",
       " 'per00595.ppm',\n",
       " 'per00596.ppm',\n",
       " 'per00597.ppm',\n",
       " 'per00598.ppm',\n",
       " 'per00599.ppm',\n",
       " 'per00600.ppm',\n",
       " 'per00601.ppm',\n",
       " 'per00602.ppm',\n",
       " 'per00603.ppm',\n",
       " 'per00604.ppm',\n",
       " 'per00605.ppm',\n",
       " 'per00606.ppm',\n",
       " 'per00607.ppm',\n",
       " 'per00608.ppm',\n",
       " 'per00609.ppm',\n",
       " 'per00610.ppm',\n",
       " 'per00611.ppm',\n",
       " 'per00612.ppm',\n",
       " 'per00613.ppm',\n",
       " 'per00614.ppm',\n",
       " 'per00615.ppm',\n",
       " 'per00616.ppm',\n",
       " 'per00617.ppm',\n",
       " 'per00618.ppm',\n",
       " 'per00619.ppm',\n",
       " 'per00620.ppm',\n",
       " 'per00621.ppm',\n",
       " 'per00622.ppm',\n",
       " 'per00623.ppm',\n",
       " 'per00624.ppm',\n",
       " 'per00625.ppm',\n",
       " 'per00626.ppm',\n",
       " 'per00627.ppm',\n",
       " 'per00628.ppm',\n",
       " 'per00629.ppm',\n",
       " 'per00630.ppm',\n",
       " 'per00631.ppm',\n",
       " 'per00632.ppm',\n",
       " 'per00633.ppm',\n",
       " 'per00634.ppm',\n",
       " 'per00635.ppm',\n",
       " 'per00636.ppm',\n",
       " 'per00637.ppm',\n",
       " 'per00638.ppm',\n",
       " 'per00639.ppm',\n",
       " 'per00640.ppm',\n",
       " 'per00641.ppm',\n",
       " 'per00642.ppm',\n",
       " 'per00643.ppm',\n",
       " 'per00644.ppm',\n",
       " 'per00645.ppm',\n",
       " 'per00646.ppm',\n",
       " 'per00647.ppm',\n",
       " 'per00648.ppm',\n",
       " 'per00649.ppm',\n",
       " 'per00650.ppm',\n",
       " 'per00651.ppm',\n",
       " 'per00652.ppm',\n",
       " 'per00653.ppm',\n",
       " 'per00654.ppm',\n",
       " 'per00655.ppm',\n",
       " 'per00656.ppm',\n",
       " 'per00657.ppm',\n",
       " 'per00658.ppm',\n",
       " 'per00659.ppm',\n",
       " 'per00660.ppm',\n",
       " 'per00661.ppm',\n",
       " 'per00662.ppm',\n",
       " 'per00663.ppm',\n",
       " 'per00664.ppm',\n",
       " 'per00665.ppm',\n",
       " 'per00666.ppm',\n",
       " 'per00667.ppm',\n",
       " 'per00668.ppm',\n",
       " 'per00669.ppm',\n",
       " 'per00670.ppm',\n",
       " 'per00671.ppm',\n",
       " 'per00672.ppm',\n",
       " 'per00673.ppm',\n",
       " 'per00674.ppm',\n",
       " 'per00675.ppm',\n",
       " 'per00676.ppm',\n",
       " 'per00677.ppm',\n",
       " 'per00678.ppm',\n",
       " 'per00679.ppm',\n",
       " 'per00680.ppm',\n",
       " 'per00681.ppm',\n",
       " 'per00682.ppm',\n",
       " 'per00683.ppm',\n",
       " 'per00684.ppm',\n",
       " 'per00685.ppm',\n",
       " 'per00686.ppm',\n",
       " 'per00687.ppm',\n",
       " 'per00688.ppm',\n",
       " 'per00689.ppm',\n",
       " 'per00690.ppm',\n",
       " 'per00691.ppm',\n",
       " 'per00692.ppm',\n",
       " 'per00693.ppm',\n",
       " 'per00694.ppm',\n",
       " 'per00695.ppm',\n",
       " 'per00696.ppm',\n",
       " 'per00697.ppm',\n",
       " 'per00698.ppm',\n",
       " 'per00699.ppm',\n",
       " 'per00700.ppm',\n",
       " 'per00701.ppm',\n",
       " 'per00702.ppm',\n",
       " 'per00703.ppm',\n",
       " 'per00704.ppm',\n",
       " 'per00705.ppm',\n",
       " 'per00706.ppm',\n",
       " 'per00707.ppm',\n",
       " 'per00708.ppm',\n",
       " 'per00709.ppm',\n",
       " 'per00710.ppm',\n",
       " 'per00711.ppm',\n",
       " 'per00712.ppm',\n",
       " 'per00713.ppm',\n",
       " 'per00714.ppm',\n",
       " 'per00715.ppm',\n",
       " 'per00716.ppm',\n",
       " 'per00717.ppm',\n",
       " 'per00718.ppm',\n",
       " 'per00719.ppm',\n",
       " 'per00720.ppm',\n",
       " 'per00721.ppm',\n",
       " 'per00722.ppm',\n",
       " 'per00723.ppm',\n",
       " 'per00724.ppm',\n",
       " 'per00725.ppm',\n",
       " 'per00726.ppm',\n",
       " 'per00727.ppm',\n",
       " 'per00728.ppm',\n",
       " 'per00729.ppm',\n",
       " 'per00730.ppm',\n",
       " 'per00731.ppm',\n",
       " 'per00732.ppm',\n",
       " 'per00733.ppm',\n",
       " 'per00734.ppm',\n",
       " 'per00735.ppm',\n",
       " 'per00736.ppm',\n",
       " 'per00737.ppm',\n",
       " 'per00738.ppm',\n",
       " 'per00739.ppm',\n",
       " 'per00740.ppm',\n",
       " 'per00741.ppm',\n",
       " 'per00742.ppm',\n",
       " 'per00743.ppm',\n",
       " 'per00744.ppm',\n",
       " 'per00745.ppm',\n",
       " 'per00746.ppm',\n",
       " 'per00747.ppm',\n",
       " 'per00748.ppm',\n",
       " 'per00749.ppm',\n",
       " 'per00750.ppm',\n",
       " 'per00751.ppm',\n",
       " 'per00752.ppm',\n",
       " 'per00753.ppm',\n",
       " 'per00754.ppm',\n",
       " 'per00755.ppm',\n",
       " 'per00756.ppm',\n",
       " 'per00757.ppm',\n",
       " 'per00758.ppm',\n",
       " 'per00759.ppm',\n",
       " 'per00760.ppm',\n",
       " 'per00761.ppm',\n",
       " 'per00762.ppm',\n",
       " 'per00763.ppm',\n",
       " 'per00764.ppm',\n",
       " 'per00765.ppm',\n",
       " 'per00766.ppm',\n",
       " 'per00767.ppm',\n",
       " 'per00768.ppm',\n",
       " 'per00769.ppm',\n",
       " 'per00770.ppm',\n",
       " 'per00771.ppm',\n",
       " 'per00772.ppm',\n",
       " 'per00773.ppm',\n",
       " 'per00774.ppm',\n",
       " 'per00775.ppm',\n",
       " 'per00776.ppm',\n",
       " 'per00777.ppm',\n",
       " 'per00778.ppm',\n",
       " 'per00779.ppm',\n",
       " 'per00780.ppm',\n",
       " 'per00781.ppm',\n",
       " 'per00782.ppm',\n",
       " 'per00783.ppm',\n",
       " 'per00784.ppm',\n",
       " 'per00785.ppm',\n",
       " 'per00786.ppm',\n",
       " 'per00787.ppm',\n",
       " 'per00788.ppm',\n",
       " 'per00789.ppm',\n",
       " 'per00790.ppm',\n",
       " 'per00791.ppm',\n",
       " 'per00792.ppm',\n",
       " 'per00793.ppm',\n",
       " 'per00794.ppm',\n",
       " 'per00795.ppm',\n",
       " 'per00796.ppm',\n",
       " 'per00797.ppm',\n",
       " 'per00798.ppm',\n",
       " 'per00799.ppm',\n",
       " 'per00800.ppm',\n",
       " 'per00801.ppm',\n",
       " 'per00802.ppm',\n",
       " 'per00803.ppm',\n",
       " 'per00804.ppm',\n",
       " 'per00805.ppm',\n",
       " 'per00806.ppm',\n",
       " 'per00807.ppm',\n",
       " 'per00808.ppm',\n",
       " 'per00809.ppm',\n",
       " 'per00810.ppm',\n",
       " 'per00811.ppm',\n",
       " 'per00812.ppm',\n",
       " 'per00813.ppm',\n",
       " 'per00814.ppm',\n",
       " 'per00815.ppm',\n",
       " 'per00816.ppm',\n",
       " 'per00817.ppm',\n",
       " 'per00818.ppm',\n",
       " 'per00819.ppm',\n",
       " 'per00820.ppm',\n",
       " 'per00821.ppm',\n",
       " 'per00822.ppm',\n",
       " 'per00823.ppm',\n",
       " 'per00824.ppm',\n",
       " 'per00825.ppm',\n",
       " 'per00826.ppm',\n",
       " 'per00827.ppm',\n",
       " 'per00828.ppm',\n",
       " 'per00829.ppm',\n",
       " 'per00830.ppm',\n",
       " 'per00831.ppm',\n",
       " 'per00832.ppm',\n",
       " 'per00833.ppm',\n",
       " 'per00834.ppm',\n",
       " 'per00835.ppm',\n",
       " 'per00836.ppm',\n",
       " 'per00837.ppm',\n",
       " 'per00838.ppm',\n",
       " 'per00839.ppm',\n",
       " 'per00840.ppm',\n",
       " 'per00841.ppm',\n",
       " 'per00842.ppm',\n",
       " 'per00843.ppm',\n",
       " 'per00844.ppm',\n",
       " 'per00845.ppm',\n",
       " 'per00846.ppm',\n",
       " 'per00847.ppm',\n",
       " 'per00848.ppm',\n",
       " 'per00849.ppm',\n",
       " 'per00850.ppm',\n",
       " 'per00851.ppm',\n",
       " 'per00852.ppm',\n",
       " 'per00853.ppm',\n",
       " 'per00854.ppm',\n",
       " 'per00855.ppm',\n",
       " 'per00856.ppm',\n",
       " 'per00857.ppm',\n",
       " 'per00858.ppm',\n",
       " 'per00859.ppm',\n",
       " 'per00860.ppm',\n",
       " 'per00861.ppm',\n",
       " 'per00862.ppm',\n",
       " 'per00863.ppm',\n",
       " 'per00864.ppm',\n",
       " 'per00865.ppm',\n",
       " 'per00866.ppm',\n",
       " 'per00867.ppm',\n",
       " 'per00868.ppm',\n",
       " 'per00869.ppm',\n",
       " 'per00870.ppm',\n",
       " 'per00871.ppm',\n",
       " 'per00872.ppm',\n",
       " 'per00873.ppm',\n",
       " 'per00874.ppm',\n",
       " 'per00875.ppm',\n",
       " 'per00876.ppm',\n",
       " 'per00877.ppm',\n",
       " 'per00878.ppm',\n",
       " 'per00879.ppm',\n",
       " 'per00880.ppm',\n",
       " 'per00881.ppm',\n",
       " 'per00882.ppm',\n",
       " 'per00883.ppm',\n",
       " 'per00884.ppm',\n",
       " 'per00885.ppm',\n",
       " 'per00886.ppm',\n",
       " 'per00887.ppm',\n",
       " 'per00888.ppm',\n",
       " 'per00889.ppm',\n",
       " 'per00890.ppm',\n",
       " 'per00891.ppm',\n",
       " 'per00892.ppm',\n",
       " 'per00893.ppm',\n",
       " 'per00894.ppm',\n",
       " 'per00895.ppm',\n",
       " 'per00896.ppm',\n",
       " 'per00897.ppm',\n",
       " 'per00898.ppm',\n",
       " 'per00899.ppm',\n",
       " 'per00900.ppm',\n",
       " 'per00901.ppm',\n",
       " 'per00902.ppm',\n",
       " 'per00903.ppm',\n",
       " 'per00904.ppm',\n",
       " 'per00905.ppm',\n",
       " 'per00906.ppm',\n",
       " 'per00907.ppm',\n",
       " 'per00908.ppm',\n",
       " 'per00909.ppm',\n",
       " 'per00910.ppm',\n",
       " 'per00911.ppm',\n",
       " 'per00912.ppm',\n",
       " 'per00913.ppm',\n",
       " 'per00914.ppm',\n",
       " 'per00915.ppm',\n",
       " 'per00916.ppm',\n",
       " 'per00917.ppm',\n",
       " 'per00918.ppm',\n",
       " 'per00919.ppm',\n",
       " 'per00920.ppm',\n",
       " 'per00921.ppm',\n",
       " 'per00922.ppm',\n",
       " 'per00923.ppm',\n",
       " 'per00924.ppm']"
      ]
     },
     "execution_count": 112,
     "metadata": {},
     "output_type": "execute_result"
    }
   ],
   "source": [
    "import os\n",
    "os.listdir('data/pedestrians128x64/')"
   ]
  },
  {
   "cell_type": "code",
   "execution_count": 113,
   "metadata": {},
   "outputs": [
    {
     "data": {
      "image/png": "[encoded data removed]",
      "text/plain": [
       "<matplotlib.figure.Figure at 0x25923b8a9b0>"
      ]
     },
     "metadata": {},
     "output_type": "display_data"
    }
   ],
   "source": [
    "for i in range(5):\n",
    "    filename = '%s/%s/per0010%d.ppm' % (datadir, dataset, i)\n",
    "    image = ocv.imread(filename)\n",
    "    plt.subplot(1, 5, i + 1)\n",
    "    plt.imshow(ocv.cvtColor(image, ocv.COLOR_BGR2RGB))\n",
    "    plt.axis('off')"
   ]
  },
  {
   "cell_type": "markdown",
   "metadata": {},
   "source": [
    "# Histogram of Orientation Gradients"
   ]
  },
  {
   "cell_type": "code",
   "execution_count": 114,
   "metadata": {
    "collapsed": true
   },
   "outputs": [],
   "source": [
    "win_size = (48, 96) # **** most important argument\n",
    "block_size = (16, 16)\n",
    "block_stride = (8, 8)\n",
    "cell_size = (8, 8)\n",
    "num_bins = 9\n",
    "hog = ocv.HOGDescriptor(win_size, block_size, block_stride, cell_size, num_bins)\n"
   ]
  },
  {
   "cell_type": "code",
   "execution_count": 115,
   "metadata": {},
   "outputs": [],
   "source": [
    "import random\n",
    "random.seed(42)\n",
    "X_pos = []\n",
    "for i in random.sample(range(1, 900), 400):\n",
    "    filename = \"%s/%s/per%s%d.ppm\" % (datadir, dataset, ('0'*(5-len(str(i)))) , i)\n",
    "    img = ocv.imread(filename)\n",
    "    X_pos.append(hog.compute(img, (64, 64)))"
   ]
  },
  {
   "cell_type": "markdown",
   "metadata": {},
   "source": [
    "##### We should also remember that OpenCV wants the feature matrix to contain 32-bit floating point numbers, and the target labels to be 32-bit integers. We don't mind, since converting to NumPy arrays will allow us to easily investigate the sizes of the matrices we created:"
   ]
  },
  {
   "cell_type": "code",
   "execution_count": 116,
   "metadata": {
    "collapsed": true
   },
   "outputs": [],
   "source": [
    "X_pos = np.array(X_pos, dtype=np.float32)\n",
    "y_pos = np.ones(X_pos.shape[0], dtype=np.int32)"
   ]
  },
  {
   "cell_type": "code",
   "execution_count": 117,
   "metadata": {},
   "outputs": [
    {
     "data": {
      "text/plain": [
       "((400, 1980, 1), (400,))"
      ]
     },
     "execution_count": 117,
     "metadata": {},
     "output_type": "execute_result"
    }
   ],
   "source": [
    "X_pos.shape, y_pos.shape"
   ]
  },
  {
   "cell_type": "code",
   "execution_count": 110,
   "metadata": {},
   "outputs": [
    {
     "name": "stdout",
     "output_type": "stream",
     "text": [
      "Successfully extracted data/pedestrians_neg.tar.gz to data\n"
     ]
    }
   ],
   "source": [
    "negdir = '%s' % ('pedestrians_neg')\n",
    "extract_tar(negdir)"
   ]
  },
  {
   "cell_type": "code",
   "execution_count": 244,
   "metadata": {},
   "outputs": [
    {
     "data": {
      "image/png": "[encoded data removed]",
      "text/plain": [
       "<matplotlib.figure.Figure at 0x25924bab128>"
      ]
     },
     "metadata": {},
     "output_type": "display_data"
    }
   ],
   "source": [
    "hroi = 128\n",
    "wroi = 64\n",
    "X_neg = []\n",
    "\n",
    "for file in os.listdir('%s/%s' % (datadir, negdir)):\n",
    "    filename = '%s/%s/%s' % (datadir, negdir, file)\n",
    "    image = ocv.imread(filename)\n",
    "    image = ocv.resize(image, (512, 512))\n",
    "    # cut out a 64 x 128 pixel ROI by randomly \n",
    "    # choosing the top-left corner coordinate\n",
    "    # This is used to grow the dataset of negatives.\n",
    "    \n",
    "    ## This var checks that only the first looped images are displayed \n",
    "    display = True \n",
    "    for j in range(5):\n",
    "        rand_y = random.randint(0, image.shape[0] - hroi)\n",
    "        rand_x = random.randint(0, image.shape[1] - wroi)\n",
    "        roi = image[rand_y:rand_y + hroi, rand_x:rand_x + wroi, :]\n",
    "        X_neg.append(hog.compute(roi, (64, 64)))\n",
    "        # For displaying of resized images\n",
    "        if display:\n",
    "            plt.subplot(2, 3, j + 1)\n",
    "            plt.imshow(roi)\n",
    "    display = False\n",
    "    "
   ]
  },
  {
   "cell_type": "code",
   "execution_count": 227,
   "metadata": {},
   "outputs": [],
   "source": [
    "X_neg = np.array(X_neg, dtype=np.float32)\n",
    "y_neg = -np.ones(X_neg.shape[0], dtype=np.int32)"
   ]
  },
  {
   "cell_type": "code",
   "execution_count": 228,
   "metadata": {
    "collapsed": true
   },
   "outputs": [
    {
     "data": {
      "text/plain": [
       "array([-1, -1, -1, -1, -1, -1, -1, -1, -1, -1, -1, -1, -1, -1, -1, -1, -1,\n",
       "       -1, -1, -1, -1, -1, -1, -1, -1, -1, -1, -1, -1, -1, -1, -1, -1, -1,\n",
       "       -1, -1, -1, -1, -1, -1, -1, -1, -1, -1, -1, -1, -1, -1, -1, -1, -1,\n",
       "       -1, -1, -1, -1, -1, -1, -1, -1, -1, -1, -1, -1, -1, -1, -1, -1, -1,\n",
       "       -1, -1, -1, -1, -1, -1, -1, -1, -1, -1, -1, -1, -1, -1, -1, -1, -1,\n",
       "       -1, -1, -1, -1, -1, -1, -1, -1, -1, -1, -1, -1, -1, -1, -1, -1, -1,\n",
       "       -1, -1, -1, -1, -1, -1, -1, -1, -1, -1, -1, -1, -1, -1, -1, -1, -1,\n",
       "       -1, -1, -1, -1, -1, -1, -1, -1, -1, -1, -1, -1, -1, -1, -1, -1, -1,\n",
       "       -1, -1, -1, -1, -1, -1, -1, -1, -1, -1, -1, -1, -1, -1, -1, -1, -1,\n",
       "       -1, -1, -1, -1, -1, -1, -1, -1, -1, -1, -1, -1, -1, -1, -1, -1, -1,\n",
       "       -1, -1, -1, -1, -1, -1, -1, -1, -1, -1, -1, -1, -1, -1, -1, -1, -1,\n",
       "       -1, -1, -1, -1, -1, -1, -1, -1, -1, -1, -1, -1, -1, -1, -1, -1, -1,\n",
       "       -1, -1, -1, -1, -1, -1, -1, -1, -1, -1, -1, -1, -1, -1, -1, -1, -1,\n",
       "       -1, -1, -1, -1, -1, -1, -1, -1, -1, -1, -1, -1, -1, -1, -1, -1, -1,\n",
       "       -1, -1, -1, -1, -1, -1, -1, -1, -1, -1, -1, -1])"
      ]
     },
     "execution_count": 228,
     "metadata": {},
     "output_type": "execute_result"
    }
   ],
   "source": [
    "y_neg"
   ]
  },
  {
   "cell_type": "code",
   "execution_count": 229,
   "metadata": {},
   "outputs": [
    {
     "data": {
      "text/plain": [
       "((250, 1980, 1), (250,))"
      ]
     },
     "execution_count": 229,
     "metadata": {},
     "output_type": "execute_result"
    }
   ],
   "source": [
    "X_neg.shape, y_neg.shape"
   ]
  },
  {
   "cell_type": "markdown",
   "metadata": {},
   "source": [
    "## concatenate all positive (X_pos) and negative samples (X_neg) into a single dataset X"
   ]
  },
  {
   "cell_type": "code",
   "execution_count": 230,
   "metadata": {},
   "outputs": [],
   "source": [
    "X = np.concatenate((X_pos, X_neg))\n",
    "y = np.concatenate((y_pos, y_neg))"
   ]
  },
  {
   "cell_type": "markdown",
   "metadata": {},
   "source": [
    "### Split train and test sets"
   ]
  },
  {
   "cell_type": "code",
   "execution_count": 231,
   "metadata": {},
   "outputs": [],
   "source": [
    "X_train, X_test, y_train, y_test = model_selection.train_test_split(\n",
    "    X, y, test_size=.2, random_state=42)"
   ]
  },
  {
   "cell_type": "code",
   "execution_count": 232,
   "metadata": {},
   "outputs": [
    {
     "data": {
      "text/plain": [
       "((520, 1980, 1), (520,), (130, 1980, 1), (130,))"
      ]
     },
     "execution_count": 232,
     "metadata": {},
     "output_type": "execute_result"
    }
   ],
   "source": [
    "X_train.shape, y_train.shape, X_test.shape, y_test.shape"
   ]
  },
  {
   "cell_type": "code",
   "execution_count": 233,
   "metadata": {
    "collapsed": true
   },
   "outputs": [],
   "source": [
    "def train_svm(X_train, y_train):\n",
    "    svm = ocv.ml.SVM_create()\n",
    "    svm.train(X_train, ocv.ml.ROW_SAMPLE, y_train)\n",
    "    return svm"
   ]
  },
  {
   "cell_type": "code",
   "execution_count": 234,
   "metadata": {
    "collapsed": true
   },
   "outputs": [],
   "source": [
    "def score_svm(svm, X_test, y_test):\n",
    "    from sklearn.metrics import accuracy_score\n",
    "    _, test_predict = svm.predict(X_test)\n",
    "    score = accuracy_score(y_test, test_predict)\n",
    "    return score"
   ]
  },
  {
   "cell_type": "code",
   "execution_count": 235,
   "metadata": {
    "collapsed": true
   },
   "outputs": [],
   "source": [
    "svm = train_svm(X_train, y_train)"
   ]
  },
  {
   "cell_type": "code",
   "execution_count": 236,
   "metadata": {},
   "outputs": [
    {
     "data": {
      "text/plain": [
       "1.0"
      ]
     },
     "execution_count": 236,
     "metadata": {},
     "output_type": "execute_result"
    }
   ],
   "source": [
    "## Score our training data\n",
    "score_svm(svm, X_train, y_train) # 1.0 implies no mistake with training set"
   ]
  },
  {
   "cell_type": "code",
   "execution_count": 238,
   "metadata": {},
   "outputs": [
    {
     "data": {
      "text/plain": [
       "0.66153846153846152"
      ]
     },
     "execution_count": 238,
     "metadata": {},
     "output_type": "execute_result"
    }
   ],
   "source": [
    "score_svm(svm, X_test, y_test)"
   ]
  },
  {
   "cell_type": "markdown",
   "metadata": {},
   "source": [
    "# <center> Bootstrapping the model </center>"
   ]
  },
  {
   "cell_type": "markdown",
   "metadata": {},
   "source": [
    "### <center>Finding false positives, and add to training set<center>\n",
    "##### <center>False positives are test points whose target value is False, but are evaluated as True during testing.</center>"
   ]
  },
  {
   "cell_type": "code",
   "execution_count": 239,
   "metadata": {},
   "outputs": [
    {
     "name": "stdout",
     "output_type": "stream",
     "text": [
      "No more false positives: done\n"
     ]
    },
    {
     "data": {
      "text/plain": [
       "([1.0, 1.0], [0.66153846153846152, 1.0])"
      ]
     },
     "execution_count": 239,
     "metadata": {},
     "output_type": "execute_result"
    }
   ],
   "source": [
    "# def model_bootstrap():\n",
    "train_score = []\n",
    "test_score = []\n",
    "for j in range(3):\n",
    "    svm = train_svm(X_train, y_train)\n",
    "    train_score.append(score_svm(svm, X_train, y_train))\n",
    "    test_score.append(score_svm(svm, X_test, y_test))\n",
    "    _, pred_test = svm.predict(X_test)\n",
    "    false_pos = np.logical_and(\n",
    "    (pred_test.ravel() == 1), (y_test.ravel() == -1))\n",
    "    if not np.any(false_pos):\n",
    "        print(\"No more false positives: done\")\n",
    "        break\n",
    "    # Append false positive(s) to training set\n",
    "    X_train = np.concatenate((X_train, X_test[false_pos, :]), axis=0)\n",
    "    y_train = np.concatenate((y_train, y_test[false_pos]), axis=0)\n",
    "\n",
    "train_score, test_score"
   ]
  },
  {
   "cell_type": "code",
   "execution_count": 225,
   "metadata": {},
   "outputs": [
    {
     "data": {
      "text/plain": [
       "([1.0, 1.0], [0.96296296296296291, 1.0])"
      ]
     },
     "execution_count": 225,
     "metadata": {},
     "output_type": "execute_result"
    }
   ],
   "source": [
    "train_score, test_score"
   ]
  },
  {
   "cell_type": "code",
   "execution_count": 245,
   "metadata": {
    "collapsed": true
   },
   "outputs": [
    {
     "name": "stdout",
     "output_type": "stream",
     "text": [
      "a.ravel([order])\n",
      "\n",
      "    Return a flattened array.\n",
      "\n",
      "    Refer to `numpy.ravel` for full documentation.\n",
      "\n",
      "    See Also\n",
      "    --------\n",
      "    numpy.ravel : equivalent function\n",
      "\n",
      "    ndarray.flat : a flat iterator on the array.\n"
     ]
    }
   ],
   "source": [
    "print(y_test.ravel.__doc__)"
   ]
  },
  {
   "cell_type": "markdown",
   "metadata": {},
   "source": [
    "# <center>Detecting Pedestrians in a larger image</center>"
   ]
  },
  {
   "cell_type": "code",
   "execution_count": null,
   "metadata": {
    "collapsed": true
   },
   "outputs": [],
   "source": []
  }
 ],
 "metadata": {
  "kernelspec": {
   "display_name": "Python 3",
   "language": "python",
   "name": "python3"
  },
  "language_info": {
   "codemirror_mode": {
    "name": "ipython",
    "version": 3
   },
   "file_extension": ".py",
   "mimetype": "text/x-python",
   "name": "python",
   "nbconvert_exporter": "python",
   "pygments_lexer": "ipython3",
   "version": "3.6.1"
  }
 },
 "nbformat": 4,
 "nbformat_minor": 2
}
