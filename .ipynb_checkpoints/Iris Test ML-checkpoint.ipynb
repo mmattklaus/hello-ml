{
 "cells": [
  {
   "cell_type": "code",
   "execution_count": 2,
   "metadata": {
    "collapsed": true
   },
   "outputs": [],
   "source": [
    "from sklearn.datasets import load_iris\n",
    "from sklearn.tree import DecisionTreeClassifier\n",
    "import numpy as np"
   ]
  },
  {
   "cell_type": "code",
   "execution_count": 18,
   "metadata": {},
   "outputs": [
    {
     "name": "stdout",
     "output_type": "stream",
     "text": [
      "[[ 5.1  3.5  1.4  0.2]\n",
      " [ 5.7  2.8  4.1  1.3]\n",
      " [ 5.9  3.   5.1  1.8]]\n"
     ]
    }
   ],
   "source": [
    "# Step 1\n",
    "## Load Data\n",
    "iris = load_iris()\n",
    "test_set = [0, 99, 149]\n",
    "# Training set\n",
    "training_data = np.delete(iris.data, test_set, axis=0)\n",
    "training_features = np.delete(iris.target, test_set, None)\n",
    "# Test set\n",
    "test_data = iris.data[test_set]\n",
    "test_features = iris.target[test_set]\n",
    "print(test_data)"
   ]
  },
  {
   "cell_type": "code",
   "execution_count": 4,
   "metadata": {
    "scrolled": true
   },
   "outputs": [
    {
     "name": "stdout",
     "output_type": "stream",
     "text": [
      "['setosa' 'versicolor' 'virginica']\n",
      "['sepal length (cm)', 'sepal width (cm)', 'petal length (cm)', 'petal width (cm)']\n",
      "147\n"
     ]
    }
   ],
   "source": [
    "print(iris.target_names)\n",
    "print(iris.feature_names)\n",
    "print(len(training_data))"
   ]
  },
  {
   "cell_type": "code",
   "execution_count": 5,
   "metadata": {
    "collapsed": true
   },
   "outputs": [],
   "source": [
    "# Step 2\n",
    "## Training Classifier\n",
    "clf = DecisionTreeClassifier()\n",
    "clf = clf.fit(training_data, training_features)\n"
   ]
  },
  {
   "cell_type": "code",
   "execution_count": 10,
   "metadata": {},
   "outputs": [
    {
     "name": "stdout",
     "output_type": "stream",
     "text": [
      "[0 1 2]\n",
      "Actual set:  [0 1 2]\n"
     ]
    }
   ],
   "source": [
    "# Step 3\n",
    "## Test Data\n",
    "print(clf.predict(test_data))\n",
    "print(\"Actual set: \", test_features)"
   ]
  },
  {
   "cell_type": "code",
   "execution_count": 7,
   "metadata": {},
   "outputs": [],
   "source": [
    "from sklearn.tree import export_graphviz\n",
    "from sklearn.externals.six import StringIO\n",
    "import pydot\n",
    "import graphviz"
   ]
  },
  {
   "cell_type": "code",
   "execution_count": 8,
   "metadata": {},
   "outputs": [
    {
     "data": {
      "text/plain": [
       "'Iris.pdf'"
      ]
     },
     "execution_count": 8,
     "metadata": {},
     "output_type": "execute_result"
    }
   ],
   "source": [
    "# Visualizing the Decision Tree\n",
    "## Basic\n",
    "# dot_data = StringIO()\n",
    "dot_data = export_graphviz(clf, out_file=None, \n",
    "               feature_names=iris.feature_names,\n",
    "               class_names=iris.target_names,\n",
    "               filled=True, rounded=True, impurity=False,\n",
    "               special_characters=True)\n",
    "# graph = pydot.graph_from_dot_data(dot_data.getvalue())\n",
    "# graph.write_pdf(\"iris.pdf\")\n",
    "graph = graphviz.Source(dot_data)\n",
    "graph.render(\"Iris\")"
   ]
  },
  {
   "cell_type": "code",
   "execution_count": 13,
   "metadata": {},
   "outputs": [
    {
     "name": "stdout",
     "output_type": "stream",
     "text": [
      "0\n",
      "1\n",
      "2\n",
      "[ 5.1  3.5  1.4  0.2] sepal length (cm)\n"
     ]
    }
   ],
   "source": [
    "for i in test_features:\n",
    "    print(i)\n",
    "print(test_data[0], iris.feature_names[test_features[0]])"
   ]
  },
  {
   "cell_type": "code",
   "execution_count": 17,
   "metadata": {},
   "outputs": [
    {
     "name": "stdout",
     "output_type": "stream",
     "text": [
      "sepal length (cm)\tsepal width (cm)\tpetal length (cm)\tpetal width (cm)\t"
     ]
    }
   ],
   "source": [
    "for f in iris.feature_names:\n",
    "    print(\"%s\\t\" % f, end=\"\")\n",
    "for data, in test_data:\n",
    "    print(\"     %s\""
   ]
  },
  {
   "cell_type": "code",
   "execution_count": null,
   "metadata": {
    "collapsed": true
   },
   "outputs": [],
   "source": []
  }
 ],
 "metadata": {
  "kernelspec": {
   "display_name": "Python 3",
   "language": "python",
   "name": "python3"
  },
  "language_info": {
   "codemirror_mode": {
    "name": "ipython",
    "version": 3
   },
   "file_extension": ".py",
   "mimetype": "text/x-python",
   "name": "python",
   "nbconvert_exporter": "python",
   "pygments_lexer": "ipython3",
   "version": "3.6.1"
  }
 },
 "nbformat": 4,
 "nbformat_minor": 2
}
