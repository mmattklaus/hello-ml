{
 "cells": [
  {
   "cell_type": "code",
   "execution_count": 147,
   "metadata": {},
   "outputs": [],
   "source": [
    "from sklearn import datasets"
   ]
  },
  {
   "cell_type": "code",
   "execution_count": 148,
   "metadata": {},
   "outputs": [],
   "source": [
    "# Import Iris data set\n",
    "\n",
    "iris = datasets.load_iris()\n",
    "\n",
    "X = iris.data\n",
    "y = iris.target"
   ]
  },
  {
   "cell_type": "code",
   "execution_count": 149,
   "metadata": {},
   "outputs": [],
   "source": [
    "# split training and test set by 50% each (test_size=.5)\n",
    "\n",
    "from sklearn.cross_validation import train_test_split\n",
    "\n",
    "X_train, X_test, y_train, y_test = train_test_split(X, y, test_size=.5)"
   ]
  },
  {
   "cell_type": "code",
   "execution_count": 150,
   "metadata": {},
   "outputs": [
    {
     "name": "stdout",
     "output_type": "stream",
     "text": [
      "75 75 38 38\n"
     ]
    }
   ],
   "source": [
    "print(len(X_train), len(X_test), len(Y_train), len(Y_test))"
   ]
  },
  {
   "cell_type": "code",
   "execution_count": 151,
   "metadata": {},
   "outputs": [],
   "source": [
    "# train_test_split.__doc__"
   ]
  },
  {
   "cell_type": "code",
   "execution_count": 152,
   "metadata": {},
   "outputs": [],
   "source": [
    "# Use Decision tree algorithm\n",
    "\n",
    "# from sklearn import tree\n",
    "# classifier = tree.DecisionTreeClassifier()\n",
    "\n",
    "# Or use the K-NearestNeighbor algorithm\n",
    "\n",
    "from sklearn import neighbors\n",
    "classifier = neighbors.KNeighborsClassifier()"
   ]
  },
  {
   "cell_type": "code",
   "execution_count": 153,
   "metadata": {
    "collapsed": true
   },
   "outputs": [],
   "source": [
    "classifier = tree.DecisionTreeClassifier()"
   ]
  },
  {
   "cell_type": "code",
   "execution_count": 154,
   "metadata": {
    "scrolled": true
   },
   "outputs": [
    {
     "data": {
      "text/plain": [
       "((2, 2),\n",
       " (1, 1),\n",
       " (1, 1),\n",
       " (0, 0),\n",
       " (1, 1),\n",
       " (0, 0),\n",
       " (1, 1),\n",
       " (0, 0),\n",
       " (1, 1),\n",
       " (0, 0),\n",
       " (2, 2),\n",
       " (2, 2),\n",
       " (0, 0),\n",
       " (1, 1),\n",
       " (0, 0),\n",
       " (1, 2),\n",
       " (0, 0),\n",
       " (2, 2),\n",
       " (2, 2),\n",
       " (2, 1),\n",
       " (2, 2),\n",
       " (1, 2),\n",
       " (0, 0),\n",
       " (1, 1),\n",
       " (2, 2),\n",
       " (2, 2),\n",
       " (2, 2),\n",
       " (1, 1),\n",
       " (1, 1),\n",
       " (1, 1),\n",
       " (1, 1),\n",
       " (2, 2),\n",
       " (2, 2),\n",
       " (0, 0),\n",
       " (2, 2),\n",
       " (2, 1),\n",
       " (2, 2),\n",
       " (0, 0),\n",
       " (1, 1),\n",
       " (1, 1),\n",
       " (1, 1),\n",
       " (1, 1),\n",
       " (2, 2),\n",
       " (1, 1),\n",
       " (2, 2),\n",
       " (0, 0),\n",
       " (0, 0),\n",
       " (0, 0),\n",
       " (0, 0),\n",
       " (1, 1),\n",
       " (0, 0),\n",
       " (0, 0),\n",
       " (1, 1),\n",
       " (2, 2),\n",
       " (2, 2),\n",
       " (0, 0),\n",
       " (2, 2),\n",
       " (1, 1),\n",
       " (0, 0),\n",
       " (1, 2),\n",
       " (2, 2),\n",
       " (1, 1),\n",
       " (2, 2),\n",
       " (0, 0),\n",
       " (0, 0),\n",
       " (2, 1),\n",
       " (2, 2),\n",
       " (2, 1),\n",
       " (0, 0),\n",
       " (0, 0),\n",
       " (0, 0),\n",
       " (0, 0),\n",
       " (2, 2),\n",
       " (1, 1),\n",
       " (2, 2))"
      ]
     },
     "execution_count": 154,
     "metadata": {},
     "output_type": "execute_result"
    }
   ],
   "source": [
    "classifier.fit(X_train, y_train)\n",
    "prediction = classifier.predict(X_test)\n",
    "tuple(zip(prediction, y_test))"
   ]
  },
  {
   "cell_type": "code",
   "execution_count": 155,
   "metadata": {},
   "outputs": [],
   "source": [
    "from sklearn.metrics import accuracy_score"
   ]
  },
  {
   "cell_type": "code",
   "execution_count": 156,
   "metadata": {},
   "outputs": [
    {
     "name": "stdout",
     "output_type": "stream",
     "text": [
      "0.906666666667\n"
     ]
    }
   ],
   "source": [
    "acc = accuracy_score(prediction, y_test)\n",
    "print(acc)"
   ]
  },
  {
   "cell_type": "code",
   "execution_count": 204,
   "metadata": {},
   "outputs": [],
   "source": [
    "import random\n",
    "import numpy as np\n",
    "from scipy.spatial import distance\n",
    "class KNNClassifier:\n",
    "    \n",
    "    def fit(self, X_train, y_train):\n",
    "        self.X_train = X_train\n",
    "        self.y_train = y_train\n",
    "    \n",
    "    def predict(self, X_test):\n",
    "        predictions = []\n",
    "        for row in X_test:\n",
    "            label = self.closest(row)\n",
    "            predictions.append(label)\n",
    "        return predictions\n",
    "    \n",
    "    def closest(self, data):\n",
    "        dist = self.euc(data, self.X_train[0])\n",
    "        index = 1\n",
    "        label = y_train[0]\n",
    "        for row in np.delete(self.X_train, 0, axis=0):\n",
    "            compute = self.euc(row, data)\n",
    "            if compute < dist:\n",
    "                dist = compute\n",
    "                label = self.y_train[index]\n",
    "            index += 1\n",
    "        print(dist)\n",
    "        return label\n",
    "    \n",
    "    def euc(self, x, y):\n",
    "        return distance.euclidean(x, y)\n",
    "    "
   ]
  },
  {
   "cell_type": "code",
   "execution_count": 205,
   "metadata": {
    "scrolled": true
   },
   "outputs": [
    {
     "name": "stdout",
     "output_type": "stream",
     "text": [
      "0.22360679774997935\n",
      "0.412310562561766\n",
      "0.34641016151377524\n",
      "0.22360679774997827\n",
      "0.19999999999999973\n",
      "0.30000000000000016\n",
      "0.14142135623730995\n",
      "0.31622776601683794\n",
      "0.26457513110645864\n",
      "0.3741657386773941\n",
      "0.2999999999999998\n",
      "0.5567764362830023\n",
      "0.14142135623730964\n",
      "0.38729833462074126\n",
      "0.1414213562373093\n",
      "0.5385164807134505\n",
      "0.17320508075688762\n",
      "0.7000000000000004\n",
      "0.5099019513592784\n",
      "0.26457513110645914\n",
      "0.10000000000000009\n",
      "0.7937253933193769\n",
      "0.09999999999999998\n",
      "0.30000000000000027\n",
      "0.360555127546399\n",
      "0.3464101615137757\n",
      "0.1414213562373093\n",
      "0.3316624790355398\n",
      "0.2645751311064587\n",
      "0.2645751311064593\n",
      "0.38729833462074165\n",
      "0.14142135623730961\n",
      "0.26457513110645964\n",
      "0.2999999999999998\n",
      "0.3999999999999997\n",
      "0.3741657386773941\n",
      "0.374165738677394\n",
      "0.17320508075688743\n",
      "0.24494897427831763\n",
      "0.26457513110645864\n",
      "0.20000000000000018\n",
      "0.17320508075688762\n",
      "0.26457513110645897\n",
      "0.36055512754639885\n",
      "0.3316624790355399\n",
      "0.7141428428542851\n",
      "0.36055512754639907\n",
      "0.26457513110645897\n",
      "0.14142135623730948\n",
      "0.30000000000000016\n",
      "0.458257569495584\n",
      "0.22360679774997919\n",
      "0.3316624790355398\n",
      "0.24494897427831774\n",
      "0.31622776601683805\n",
      "0.24494897427831797\n",
      "0.5567764362830021\n",
      "0.26457513110645864\n",
      "0.09999999999999964\n",
      "0.43588989435406705\n",
      "0.1732050807568879\n",
      "0.1414213562373093\n",
      "0.4123105625617659\n",
      "0.24494897427831772\n",
      "0.0\n",
      "0.2999999999999998\n",
      "0.42426406871192884\n",
      "0.4242640687119287\n",
      "0.1999999999999999\n",
      "0.29999999999999993\n",
      "0.3605551275463988\n",
      "0.3316624790355398\n",
      "0.3605551275463994\n",
      "0.5830951894845301\n",
      "0.26457513110645897\n"
     ]
    }
   ],
   "source": [
    "classifier = KNNClassifier()\n",
    "classifier.fit(X_train, y_train)\n",
    "predict = classifier.predict(X_test)"
   ]
  },
  {
   "cell_type": "code",
   "execution_count": 206,
   "metadata": {
    "scrolled": true
   },
   "outputs": [
    {
     "name": "stdout",
     "output_type": "stream",
     "text": [
      "0.946666666667\n"
     ]
    }
   ],
   "source": [
    "acc = accuracy_score(predict, y_test)\n",
    "print(acc)"
   ]
  },
  {
   "cell_type": "code",
   "execution_count": null,
   "metadata": {
    "collapsed": true
   },
   "outputs": [],
   "source": []
  }
 ],
 "metadata": {
  "kernelspec": {
   "display_name": "Python 3",
   "language": "python",
   "name": "python3"
  },
  "language_info": {
   "codemirror_mode": {
    "name": "ipython",
    "version": 3
   },
   "file_extension": ".py",
   "mimetype": "text/x-python",
   "name": "python",
   "nbconvert_exporter": "python",
   "pygments_lexer": "ipython3",
   "version": "3.6.1"
  }
 },
 "nbformat": 4,
 "nbformat_minor": 2
}
